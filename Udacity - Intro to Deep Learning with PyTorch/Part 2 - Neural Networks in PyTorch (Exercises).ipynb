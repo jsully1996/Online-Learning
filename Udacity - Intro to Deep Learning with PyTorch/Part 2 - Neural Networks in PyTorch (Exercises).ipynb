{
 "cells": [
  {
   "cell_type": "markdown",
   "metadata": {},
   "source": [
    "# Neural networks with PyTorch\n",
    "\n",
    "Deep learning networks tend to be massive with dozens or hundreds of layers, that's where the term \"deep\" comes from. You can build one of these deep networks using only weight matrices as we did in the previous notebook, but in general it's very cumbersome and difficult to implement. PyTorch has a nice module `nn` that provides a nice way to efficiently build large neural networks."
   ]
  },
  {
   "cell_type": "code",
   "execution_count": 1,
   "metadata": {},
   "outputs": [],
   "source": [
    "# Import necessary packages\n",
    "\n",
    "%matplotlib inline\n",
    "%config InlineBackend.figure_format = 'retina'\n",
    "\n",
    "import numpy as np\n",
    "import torch\n",
    "\n",
    "import helper\n",
    "\n",
    "import matplotlib.pyplot as plt"
   ]
  },
  {
   "cell_type": "markdown",
   "metadata": {},
   "source": [
    "\n",
    "Now we're going to build a larger network that can solve a (formerly) difficult problem, identifying text in an image. Here we'll use the MNIST dataset which consists of greyscale handwritten digits. Each image is 28x28 pixels, you can see a sample below\n",
    "\n",
    "<img src='assets/mnist.png'>\n",
    "\n",
    "Our goal is to build a neural network that can take one of these images and predict the digit in the image.\n",
    "\n",
    "First up, we need to get our dataset. This is provided through the `torchvision` package. The code below will download the MNIST dataset, then create training and test datasets for us. Don't worry too much about the details here, you'll learn more about this later."
   ]
  },
  {
   "cell_type": "code",
   "execution_count": 11,
   "metadata": {},
   "outputs": [
    {
     "name": "stdout",
     "output_type": "stream",
     "text": [
      "Downloading http://yann.lecun.com/exdb/mnist/train-images-idx3-ubyte.gz to MNIST_Data/MNIST\\raw\\train-images-idx3-ubyte.gz\n"
     ]
    },
    {
     "name": "stderr",
     "output_type": "stream",
     "text": [
      "9920512it [00:01, 5805861.97it/s]                                                                                      \n"
     ]
    },
    {
     "name": "stdout",
     "output_type": "stream",
     "text": [
      "Extracting MNIST_Data/MNIST\\raw\\train-images-idx3-ubyte.gz\n",
      "Downloading http://yann.lecun.com/exdb/mnist/train-labels-idx1-ubyte.gz to MNIST_Data/MNIST\\raw\\train-labels-idx1-ubyte.gz\n"
     ]
    },
    {
     "name": "stderr",
     "output_type": "stream",
     "text": [
      "32768it [00:00, 67671.98it/s]                                                                                          \n"
     ]
    },
    {
     "name": "stdout",
     "output_type": "stream",
     "text": [
      "Extracting MNIST_Data/MNIST\\raw\\train-labels-idx1-ubyte.gz\n",
      "Downloading http://yann.lecun.com/exdb/mnist/t10k-images-idx3-ubyte.gz to MNIST_Data/MNIST\\raw\\t10k-images-idx3-ubyte.gz\n"
     ]
    },
    {
     "name": "stderr",
     "output_type": "stream",
     "text": [
      "1654784it [00:02, 756783.48it/s]                                                                                       \n"
     ]
    },
    {
     "name": "stdout",
     "output_type": "stream",
     "text": [
      "Extracting MNIST_Data/MNIST\\raw\\t10k-images-idx3-ubyte.gz\n",
      "Downloading http://yann.lecun.com/exdb/mnist/t10k-labels-idx1-ubyte.gz to MNIST_Data/MNIST\\raw\\t10k-labels-idx1-ubyte.gz\n"
     ]
    },
    {
     "name": "stderr",
     "output_type": "stream",
     "text": [
      "8192it [00:00, 29540.42it/s]                                                                                           \n"
     ]
    },
    {
     "name": "stdout",
     "output_type": "stream",
     "text": [
      "Extracting MNIST_Data/MNIST\\raw\\t10k-labels-idx1-ubyte.gz\n",
      "Processing...\n",
      "Done!\n"
     ]
    }
   ],
   "source": [
    "### Run this cell\n",
    "\n",
    "from torchvision import datasets, transforms\n",
    "\n",
    "# Define a transform to normalize the data\n",
    "transform = transforms.Compose([transforms.ToTensor(),\n",
    "                              transforms.Normalize((0.5,), (0.5,)),\n",
    "                              ])\n",
    "\n",
    "# Download and load the training data\n",
    "trainset = datasets.MNIST('MNIST_Data/', download=True, train=True, transform=transform)\n",
    "trainloader = torch.utils.data.DataLoader(trainset, batch_size=64, shuffle=True)"
   ]
  },
  {
   "cell_type": "code",
   "execution_count": 14,
   "metadata": {},
   "outputs": [
    {
     "data": {
      "text/plain": [
       "Dataset MNIST\n",
       "    Number of datapoints: 60000\n",
       "    Root location: MNIST_Data/\n",
       "    Split: Train"
      ]
     },
     "execution_count": 14,
     "metadata": {},
     "output_type": "execute_result"
    }
   ],
   "source": [
    "trainset"
   ]
  },
  {
   "cell_type": "code",
   "execution_count": 15,
   "metadata": {},
   "outputs": [
    {
     "data": {
      "text/plain": [
       "<torch.utils.data.dataloader.DataLoader at 0x197b6a17cf8>"
      ]
     },
     "execution_count": 15,
     "metadata": {},
     "output_type": "execute_result"
    }
   ],
   "source": [
    "trainloader"
   ]
  },
  {
   "cell_type": "markdown",
   "metadata": {},
   "source": [
    "We have the training data loaded into `trainloader` and we make that an iterator with `iter(trainloader)`. Later, we'll use this to loop through the dataset for training, like\n",
    "\n",
    "```python\n",
    "for image, label in trainloader:\n",
    "    ## do things with images and labels\n",
    "```\n",
    "\n",
    "You'll notice I created the `trainloader` with a batch size of 64, and `shuffle=True`. The batch size is the number of images we get in one iteration from the data loader and pass through our network, often called a *batch*. And `shuffle=True` tells it to shuffle the dataset every time we start going through the data loader again. But here I'm just grabbing the first batch so we can check out the data. We can see below that `images` is just a tensor with size `(64, 1, 28, 28)`. So, 64 images per batch, 1 color channel, and 28x28 images."
   ]
  },
  {
   "cell_type": "code",
   "execution_count": 16,
   "metadata": {},
   "outputs": [
    {
     "data": {
      "text/plain": [
       "tensor([[[[-1., -1., -1.,  ..., -1., -1., -1.],\n",
       "          [-1., -1., -1.,  ..., -1., -1., -1.],\n",
       "          [-1., -1., -1.,  ..., -1., -1., -1.],\n",
       "          ...,\n",
       "          [-1., -1., -1.,  ..., -1., -1., -1.],\n",
       "          [-1., -1., -1.,  ..., -1., -1., -1.],\n",
       "          [-1., -1., -1.,  ..., -1., -1., -1.]]],\n",
       "\n",
       "\n",
       "        [[[-1., -1., -1.,  ..., -1., -1., -1.],\n",
       "          [-1., -1., -1.,  ..., -1., -1., -1.],\n",
       "          [-1., -1., -1.,  ..., -1., -1., -1.],\n",
       "          ...,\n",
       "          [-1., -1., -1.,  ..., -1., -1., -1.],\n",
       "          [-1., -1., -1.,  ..., -1., -1., -1.],\n",
       "          [-1., -1., -1.,  ..., -1., -1., -1.]]],\n",
       "\n",
       "\n",
       "        [[[-1., -1., -1.,  ..., -1., -1., -1.],\n",
       "          [-1., -1., -1.,  ..., -1., -1., -1.],\n",
       "          [-1., -1., -1.,  ..., -1., -1., -1.],\n",
       "          ...,\n",
       "          [-1., -1., -1.,  ..., -1., -1., -1.],\n",
       "          [-1., -1., -1.,  ..., -1., -1., -1.],\n",
       "          [-1., -1., -1.,  ..., -1., -1., -1.]]],\n",
       "\n",
       "\n",
       "        ...,\n",
       "\n",
       "\n",
       "        [[[-1., -1., -1.,  ..., -1., -1., -1.],\n",
       "          [-1., -1., -1.,  ..., -1., -1., -1.],\n",
       "          [-1., -1., -1.,  ..., -1., -1., -1.],\n",
       "          ...,\n",
       "          [-1., -1., -1.,  ..., -1., -1., -1.],\n",
       "          [-1., -1., -1.,  ..., -1., -1., -1.],\n",
       "          [-1., -1., -1.,  ..., -1., -1., -1.]]],\n",
       "\n",
       "\n",
       "        [[[-1., -1., -1.,  ..., -1., -1., -1.],\n",
       "          [-1., -1., -1.,  ..., -1., -1., -1.],\n",
       "          [-1., -1., -1.,  ..., -1., -1., -1.],\n",
       "          ...,\n",
       "          [-1., -1., -1.,  ..., -1., -1., -1.],\n",
       "          [-1., -1., -1.,  ..., -1., -1., -1.],\n",
       "          [-1., -1., -1.,  ..., -1., -1., -1.]]],\n",
       "\n",
       "\n",
       "        [[[-1., -1., -1.,  ..., -1., -1., -1.],\n",
       "          [-1., -1., -1.,  ..., -1., -1., -1.],\n",
       "          [-1., -1., -1.,  ..., -1., -1., -1.],\n",
       "          ...,\n",
       "          [-1., -1., -1.,  ..., -1., -1., -1.],\n",
       "          [-1., -1., -1.,  ..., -1., -1., -1.],\n",
       "          [-1., -1., -1.,  ..., -1., -1., -1.]]]])"
      ]
     },
     "metadata": {},
     "output_type": "display_data"
    },
    {
     "data": {
      "text/plain": [
       "tensor([5, 9, 1, 6, 8, 4, 8, 6, 4, 8, 6, 0, 3, 3, 5, 3, 7, 8, 1, 1, 2, 2, 8, 9,\n",
       "        8, 0, 6, 0, 2, 3, 4, 5, 0, 3, 2, 6, 6, 1, 8, 1, 4, 8, 9, 9, 3, 1, 5, 7,\n",
       "        9, 8, 6, 7, 6, 0, 1, 8, 3, 8, 2, 0, 6, 7, 0, 9])"
      ]
     },
     "metadata": {},
     "output_type": "display_data"
    }
   ],
   "source": [
    "from IPython.display import display\n",
    "for image,label in trainloader:\n",
    "    display(image)\n",
    "    display(label)\n",
    "    break"
   ]
  },
  {
   "cell_type": "code",
   "execution_count": 17,
   "metadata": {},
   "outputs": [
    {
     "name": "stdout",
     "output_type": "stream",
     "text": [
      "<class 'torch.Tensor'>\n",
      "torch.Size([64, 1, 28, 28])\n",
      "torch.Size([64])\n"
     ]
    }
   ],
   "source": [
    "dataiter = iter(trainloader)\n",
    "images, labels = dataiter.next()\n",
    "print(type(images))\n",
    "print(images.shape)\n",
    "print(labels.shape)"
   ]
  },
  {
   "cell_type": "markdown",
   "metadata": {},
   "source": [
    "This is what one of the images looks like. "
   ]
  },
  {
   "cell_type": "code",
   "execution_count": 24,
   "metadata": {},
   "outputs": [
    {
     "data": {
      "image/png": "[encoded data removed]",
      "text/plain": [
       "<Figure size 432x288 with 1 Axes>"
      ]
     },
     "metadata": {
      "image/png": {
       "height": 250,
       "width": 253
      },
      "needs_background": "light"
     },
     "output_type": "display_data"
    }
   ],
   "source": [
    "plt.imshow(images[1].numpy().squeeze(), cmap='jet');"
   ]
  },
  {
   "cell_type": "markdown",
   "metadata": {},
   "source": [
    "First, let's try to build a simple network for this dataset using weight matrices and matrix multiplications. Then, we'll see how to do it using PyTorch's `nn` module which provides a much more convenient and powerful method for defining network architectures.\n",
    "\n",
    "The networks you've seen so far are called *fully-connected* or *dense* networks. Each unit in one layer is connected to each unit in the next layer. In fully-connected networks, the input to each layer must be a one-dimensional vector (which can be stacked into a 2D tensor as a batch of multiple examples). However, our images are 28x28 2D tensors, so we need to convert them into 1D vectors. Thinking about sizes, we need to convert the batch of images with shape `(64, 1, 28, 28)` to a have a shape of `(64, 784)`, 784 is 28 times 28. This is typically called *flattening*, we flattened the 2D images into 1D vectors.\n",
    "\n",
    "Previously you built a network with one output unit. Here we need 10 output units, one for each digit. We want our network to predict the digit shown in an image, so what we'll do is calculate probabilities that the image is of any one digit or class. This ends up being a discrete probability distribution over the classes (digits) that tells us the most likely class for the image. That means we need 10 output units for the 10 classes (digits). We'll see how to convert the network output into a probability distribution next.\n",
    "\n",
    "> **Exercise:** Flatten the batch of images `images`. Then build a multi-layer network with 784 input units, 256 hidden units, and 10 output units using random tensors for the weights and biases. For now, use a sigmoid activation for the hidden layer. Leave the output layer without an activation, we'll add one that gives us a probability distribution next."
   ]
  },
  {
   "cell_type": "code",
   "execution_count": 32,
   "metadata": {},
   "outputs": [
    {
     "data": {
      "text/plain": [
       "tensor([[ -5.2681, -16.8313, -17.8390, -17.1484, -11.1263, -21.4789, -10.4946,\n",
       "         -21.6210,   7.5575, -12.2118],\n",
       "        [ -8.3445, -15.7371, -11.8449, -15.2250,  -8.1874, -16.9260,  -8.5107,\n",
       "          -1.0811,  -1.9941, -10.4100],\n",
       "        [ -2.2356, -19.5440,  -9.1775, -18.6695,  -8.0061, -24.8092,   4.3285,\n",
       "          -7.7544,   8.4787,   0.5952],\n",
       "        [ -2.6499, -15.8243, -21.4685, -19.4162,  -3.3626, -25.9554,  -4.7935,\n",
       "          -4.1711,  -0.4311, -10.3806],\n",
       "        [ -8.3015, -13.8790, -19.6904,  -4.3176,  -3.0330, -23.1828, -17.8485,\n",
       "         -10.7721,  -0.3973,  -1.9577],\n",
       "        [ -4.1496,  -8.2695, -10.6425, -10.9152,  -2.8175, -14.7894, -15.1833,\n",
       "          -9.5511,  -0.3868,  -4.3597],\n",
       "        [ -1.8253,  -8.6570,  -6.0833,  -8.5702,   2.0637, -19.8680,  -7.5191,\n",
       "         -11.5256,   2.6533,  -6.5587],\n",
       "        [  4.8393, -20.3284, -22.2695, -11.3350, -10.9655, -25.5619, -11.6883,\n",
       "         -10.3983,   1.5339,  -2.6117],\n",
       "        [  1.6847, -16.3042, -13.1839,  -4.3104,  -4.2487, -28.5516,  -9.1368,\n",
       "         -12.6300,  -3.9342,  -0.0500],\n",
       "        [ -1.8333,  -9.2470, -19.1904,  -7.8964,  -8.9259, -11.0372,  -6.8352,\n",
       "          -9.6131,   5.5408, -14.6324],\n",
       "        [  1.9845, -14.1404, -16.6490, -20.9543,  -2.4157, -18.7208,   0.5195,\n",
       "          -5.9657,   5.6657,  -8.7792],\n",
       "        [  2.1956, -14.8793,  -5.6816, -10.7990, -13.1763, -27.2198,   0.9683,\n",
       "           0.4276,   4.4387,  -5.1332],\n",
       "        [ -0.8492, -20.7964, -11.4784, -12.4182, -12.6695, -15.2658,  -3.5948,\n",
       "         -10.0280,   4.3300, -16.7870],\n",
       "        [ 17.5309, -13.2010, -11.2767,  -7.5312,  -1.2378, -22.3306, -12.6808,\n",
       "         -18.1993,   4.6856, -11.4757],\n",
       "        [  6.4223, -18.8897, -21.7402, -11.9793, -17.3029, -21.3488,  -6.3723,\n",
       "          -4.6071,   8.0367,   1.2242],\n",
       "        [ 11.3123, -25.9664,  -6.6145,  -5.9932,  -8.0392, -14.0906,  -5.6232,\n",
       "          -0.6863,  -0.3982,  -7.0993],\n",
       "        [  2.6584, -20.3573, -19.1925, -11.3521, -11.4721, -26.7679, -11.2689,\n",
       "         -14.8248,  -0.5079, -19.5384],\n",
       "        [  1.4986, -17.5476, -18.9415,   5.2399, -12.1944, -16.3494, -14.3933,\n",
       "          -2.4895,   4.7476,  -8.0221],\n",
       "        [ 15.3414, -19.4569, -23.2904,  -8.6117,  -4.4655, -25.6671,  -1.5611,\n",
       "         -13.6142,  -5.7355,  -6.6007],\n",
       "        [ -5.5556, -16.6073,  -6.6568, -18.1833,  -3.0261, -13.6339, -15.1656,\n",
       "         -12.5244,   9.8901, -11.1346],\n",
       "        [ -5.3715, -21.2719, -12.1092, -19.9548, -12.2662, -20.2812,  -3.0773,\n",
       "           3.1090,   9.9683,  -2.9805],\n",
       "        [  5.2199, -25.1796, -21.0565, -15.8457,  -2.1988, -21.8749,  -9.2638,\n",
       "         -10.1017,   4.3497, -13.1595],\n",
       "        [ -3.7347, -19.6893, -20.4535,  -4.0741,  -4.4552, -17.5621, -10.2422,\n",
       "          -3.4722,   1.3848, -10.3007],\n",
       "        [ -4.2606, -17.2394, -18.8195,  -8.0968,  -6.1641, -13.5151, -16.3328,\n",
       "          -3.0983,  -0.0647,  -6.0827],\n",
       "        [ -5.9673, -12.0203, -14.5924,  -8.8022, -11.8787, -14.5240, -13.6396,\n",
       "           1.0664,   7.7261,   0.6025],\n",
       "        [  7.5406, -18.9286,  -7.5615, -23.9511,  -5.3807, -24.7537,   5.2957,\n",
       "          -8.9810,   8.8599,  -1.7580],\n",
       "        [  1.1032, -12.4441,  -5.0962, -18.5948, -10.6100, -27.7224,  -8.0344,\n",
       "          -8.5253,   2.2458, -11.0757],\n",
       "        [ -8.6862,  -6.0577,  -7.8493, -17.6560,  -6.4184, -25.0387, -20.0244,\n",
       "         -14.2723,   0.6387,  -3.4324],\n",
       "        [ -4.9672,   2.5452, -12.2375, -10.3325, -14.5466, -22.2067, -14.0191,\n",
       "          -8.7266,   8.3312,  -0.4641],\n",
       "        [  0.2302, -17.1963, -12.5033, -11.1062, -13.4997, -15.2082,  -9.7393,\n",
       "          -4.1700,   0.6509, -15.4845],\n",
       "        [  6.5668,  -5.7428, -21.0548,  -9.9056,  -6.3834, -23.8708,  -5.2396,\n",
       "         -11.9411,  -3.8632,  -2.7931],\n",
       "        [  4.2448,  -9.6051,  -8.4783, -14.7518,  -3.1939, -15.3570, -20.5394,\n",
       "         -14.9869,   0.8046, -12.7671],\n",
       "        [  3.8699,  -9.3597, -18.7635,  -7.1573,  -9.0903, -20.0818,  -9.3543,\n",
       "          -3.4392,   7.3818,  -3.1409],\n",
       "        [  4.2347, -12.8589, -18.6642, -11.0603, -10.1584,  -9.7179,  -5.2813,\n",
       "           0.9643,   5.8972,  -7.3107],\n",
       "        [ -9.8770, -22.9889, -12.4632, -18.3236,  -7.5316, -23.5250,  -3.6599,\n",
       "          -9.9151,   0.3570,  -3.1897],\n",
       "        [ -2.4140, -18.8147, -19.2009, -11.1614,   8.6323, -16.9072, -12.3684,\n",
       "          -7.3331,   0.8172,  -1.7017],\n",
       "        [ -2.7661, -23.6633, -17.0319,  -1.0058, -13.2772, -18.5476,  -9.5806,\n",
       "         -10.3353,  15.1731, -23.2327],\n",
       "        [  9.1900, -25.8302, -13.0703, -15.0066,  -9.1602, -17.8431,  -1.2797,\n",
       "          -7.8786,  17.2614, -10.4934],\n",
       "        [  4.7296, -25.0586, -12.8182, -16.1591,  -6.5422, -12.4557,  -6.9297,\n",
       "          -8.2381,   5.5805,  -7.8509],\n",
       "        [  0.4547, -15.7808, -12.7784, -12.1353,  -8.5418, -13.3628, -13.5951,\n",
       "         -20.9298,   4.8955, -19.6071],\n",
       "        [  7.5075, -12.4370, -14.1082,  -3.9323,  -9.7891, -22.8394, -12.5952,\n",
       "          -5.2146,   6.8768,  -6.9774],\n",
       "        [  0.1991,  -8.5149, -21.2808,  -8.9687,  -8.6908, -15.2200, -11.6333,\n",
       "          -2.4127,   0.9170,  -5.2692],\n",
       "        [ -5.9135, -15.3553, -10.0765, -11.0274, -10.5069, -17.1567, -18.1945,\n",
       "          -4.5253,  -3.7686,  -9.8112],\n",
       "        [  6.4692,  -5.5082, -12.4864,  -3.4164, -16.9844, -27.2138, -12.3647,\n",
       "          -8.1131,   7.5480,  -7.2448],\n",
       "        [ -1.7129, -14.8934, -24.1036,  -9.9745,  -4.6791, -19.5587, -11.3114,\n",
       "          -7.6129,  -6.1855,  -6.3043],\n",
       "        [ -7.5854, -11.6756, -19.0906, -11.4390,  -8.1252, -18.2639,  -1.8782,\n",
       "          -4.1334,   7.5978,  -4.4223],\n",
       "        [ 10.5255, -16.4448, -10.0270,   0.5976,  -4.1909, -20.0025,  -5.1274,\n",
       "          -1.8481,   0.5603,   7.1076],\n",
       "        [  3.3101, -19.2280, -16.9871, -18.3295,  -6.0813, -13.8607,  -7.6558,\n",
       "          -6.5333,   4.8077,  -9.2813],\n",
       "        [ -1.3850, -24.3316, -25.1108,  -2.9045,  -8.9101, -25.6691, -21.4713,\n",
       "         -10.3505,   5.2188,  -7.0412],\n",
       "        [ -8.4285, -23.8241, -15.9450, -10.4320,  -2.5021, -27.9936, -12.7772,\n",
       "           0.4482,   3.1121, -12.3653],\n",
       "        [  6.9011,  -3.2269, -13.3815,  -3.9881,  -5.5353, -15.3451, -18.9454,\n",
       "          -9.3762,   0.9934,  -1.7871],\n",
       "        [  1.2666, -11.1913, -13.0420, -12.2780,   3.4956, -21.3540,  -5.7728,\n",
       "           1.6253,   5.9411,  -6.4407],\n",
       "        [ -2.5630, -16.6048, -17.4164,  -0.4435, -12.0086, -34.4159, -18.7173,\n",
       "         -11.5759,  -2.6677,  -8.3723],\n",
       "        [ -0.0846, -11.9660, -12.4227,  -6.0111,  -4.1243, -15.0211,  -1.0529,\n",
       "          -4.6369,   6.0017, -15.7177],\n",
       "        [-15.0854, -14.0503, -13.6462,  -9.1053, -14.0814, -25.9754, -18.3098,\n",
       "          -8.4300,  -1.5305,  -5.4832],\n",
       "        [ -0.9222, -13.9270, -17.7982,   0.7162, -17.6778, -12.7496, -17.6327,\n",
       "          -4.5902,   8.2009,  -5.3245],\n",
       "        [  2.7088, -12.8244,  -7.2806,  -6.6726,  -6.4503, -21.2850, -14.4516,\n",
       "          -8.9124,   7.6252,  -1.5014],\n",
       "        [ -2.9153, -20.4672, -14.6869,  -7.5721, -12.2100, -20.7820, -13.6182,\n",
       "         -15.2931,   1.1869, -14.5961],\n",
       "        [  0.9571,  -6.6906, -17.9103,  -8.4686, -13.1908, -19.4163, -13.9763,\n",
       "          -7.5459,   8.8077,   0.5757],\n",
       "        [  2.3208,  -6.8746,  -7.8976,  -5.4485, -11.6050, -15.7763, -18.5402,\n",
       "          -8.5021,   5.6390,  -3.1828],\n",
       "        [  7.1402, -18.2239, -13.3227, -20.9284,  -4.3221,  -8.7241, -12.3869,\n",
       "         -11.7364,   5.2847,  -3.5115],\n",
       "        [  5.2756,  -7.3305, -16.7912, -14.8111, -10.1022, -17.6790,   1.6517,\n",
       "         -17.1356,   8.3199,  -2.6753],\n",
       "        [ -0.2231, -20.9076,  -9.2160, -15.7977, -12.4523, -17.4438,  -2.3589,\n",
       "          -7.9116,   3.9295, -11.0394],\n",
       "        [  7.1318, -13.0985, -11.4007,  -9.6260, -12.3287,  -9.4466, -10.5441,\n",
       "          -9.0666,   7.3861, -18.5692]])"
      ]
     },
     "execution_count": 32,
     "metadata": {},
     "output_type": "execute_result"
    }
   ],
   "source": [
    "## Your solution\n",
    "def activation(x):\n",
    "    return 1/(1+torch.exp(-x))\n",
    "\n",
    "# Flatten the input images\n",
    "inputs = images.view(images.shape[0], -1)\n",
    "\n",
    "# Create parameters\n",
    "w1 = torch.randn(784, 256)\n",
    "b1 = torch.randn(256)\n",
    "\n",
    "w2 = torch.randn(256, 10)\n",
    "b2 = torch.randn(10)\n",
    "\n",
    "h = activation(torch.mm(inputs, w1) + b1)\n",
    "\n",
    "out = torch.mm(h, w2) + b2\n",
    "out"
   ]
  },
  {
   "cell_type": "markdown",
   "metadata": {},
   "source": [
    "Now we have 10 outputs for our network. We want to pass in an image to our network and get out a probability distribution over the classes that tells us the likely class(es) the image belongs to. Something that looks like this:\n",
    "<img src='assets/image_distribution.png' width=500px>\n",
    "\n",
    "Here we see that the probability for each class is roughly the same. This is representing an untrained network, it hasn't seen any data yet so it just returns a uniform distribution with equal probabilities for each class.\n",
    "\n",
    "To calculate this probability distribution, we often use the [**softmax** function](https://en.wikipedia.org/wiki/Softmax_function). Mathematically this looks like\n",
    "\n",
    "$$\n",
    "\\Large \\sigma(x_i) = \\cfrac{e^{x_i}}{\\sum_k^K{e^{x_k}}}\n",
    "$$\n",
    "\n",
    "What this does is squish each input $x_i$ between 0 and 1 and normalizes the values to give you a proper probability distribution where the probabilites sum up to one.\n",
    "\n",
    "> **Exercise:** Implement a function `softmax` that performs the softmax calculation and returns probability distributions for each example in the batch. Note that you'll need to pay attention to the shapes when doing this. If you have a tensor `a` with shape `(64, 10)` and a tensor `b` with shape `(64,)`, doing `a/b` will give you an error because PyTorch will try to do the division across the columns (called broadcasting) but you'll get a size mismatch. The way to think about this is for each of the 64 examples, you only want to divide by one value, the sum in the denominator. So you need `b` to have a shape of `(64, 1)`. This way PyTorch will divide the 10 values in each row of `a` by the one value in each row of `b`. Pay attention to how you take the sum as well. You'll need to define the `dim` keyword in `torch.sum`. Setting `dim=0` takes the sum across the rows while `dim=1` takes the sum across the columns."
   ]
  },
  {
   "cell_type": "code",
   "execution_count": 33,
   "metadata": {},
   "outputs": [
    {
     "name": "stdout",
     "output_type": "stream",
     "text": [
      "torch.Size([64, 10])\n",
      "tensor([1.0000, 1.0000, 1.0000, 1.0000, 1.0000, 1.0000, 1.0000, 1.0000, 1.0000,\n",
      "        1.0000, 1.0000, 1.0000, 1.0000, 1.0000, 1.0000, 1.0000, 1.0000, 1.0000,\n",
      "        1.0000, 1.0000, 1.0000, 1.0000, 1.0000, 1.0000, 1.0000, 1.0000, 1.0000,\n",
      "        1.0000, 1.0000, 1.0000, 1.0000, 1.0000, 1.0000, 1.0000, 1.0000, 1.0000,\n",
      "        1.0000, 1.0000, 1.0000, 1.0000, 1.0000, 1.0000, 1.0000, 1.0000, 1.0000,\n",
      "        1.0000, 1.0000, 1.0000, 1.0000, 1.0000, 1.0000, 1.0000, 1.0000, 1.0000,\n",
      "        1.0000, 1.0000, 1.0000, 1.0000, 1.0000, 1.0000, 1.0000, 1.0000, 1.0000,\n",
      "        1.0000])\n"
     ]
    }
   ],
   "source": [
    "def softmax(x):\n",
    "    return torch.exp(x)/torch.sum(torch.exp(x), dim=1).view(-1, 1)\n",
    "\n",
    "probabilities = softmax(out)\n",
    "\n",
    "# Does it have the right shape? Should be (64, 10)\n",
    "print(probabilities.shape)\n",
    "# Does it sum to 1?\n",
    "print(probabilities.sum(dim=1))"
   ]
  },
  {
   "cell_type": "markdown",
   "metadata": {},
   "source": [
    "## Building networks with PyTorch\n",
    "\n",
    "PyTorch provides a module `nn` that makes building networks much simpler. Here I'll show you how to build the same one as above with 784 inputs, 256 hidden units, 10 output units and a softmax output."
   ]
  },
  {
   "cell_type": "code",
   "execution_count": 34,
   "metadata": {},
   "outputs": [],
   "source": [
    "from torch import nn"
   ]
  },
  {
   "cell_type": "code",
   "execution_count": 36,
   "metadata": {},
   "outputs": [],
   "source": [
    "class Network(nn.Module):\n",
    "    def __init__(self):\n",
    "        super().__init__()\n",
    "        \n",
    "        # Inputs to hidden layer linear transformation\n",
    "        self.hidden = nn.Linear(784, 256)\n",
    "        # Output layer, 10 units - one for each digit\n",
    "        self.output = nn.Linear(256, 10)\n",
    "        \n",
    "        # Define sigmoid activation and softmax output \n",
    "        self.sigmoid = nn.Sigmoid()\n",
    "        self.softmax = nn.Softmax(dim=1)\n",
    "        \n",
    "    def forward(self, x):\n",
    "        # Pass the input tensor through each of our operations\n",
    "        x = self.hidden(x)\n",
    "        x = self.sigmoid(x)\n",
    "        x = self.output(x)\n",
    "        x = self.softmax(x)\n",
    "        \n",
    "        return x"
   ]
  },
  {
   "cell_type": "markdown",
   "metadata": {},
   "source": [
    "Let's go through this bit by bit.\n",
    "\n",
    "```python\n",
    "class Network(nn.Module):\n",
    "```\n",
    "\n",
    "Here we're inheriting from `nn.Module`. Combined with `super().__init__()` this creates a class that tracks the architecture and provides a lot of useful methods and attributes. It is mandatory to inherit from `nn.Module` when you're creating a class for your network. The name of the class itself can be anything.\n",
    "\n",
    "```python\n",
    "self.hidden = nn.Linear(784, 256)\n",
    "```\n",
    "\n",
    "This line creates a module for a linear transformation, $x\\mathbf{W} + b$, with 784 inputs and 256 outputs and assigns it to `self.hidden`. The module automatically creates the weight and bias tensors which we'll use in the `forward` method. You can access the weight and bias tensors once the network (`net`) is created with `net.hidden.weight` and `net.hidden.bias`.\n",
    "\n",
    "```python\n",
    "self.output = nn.Linear(256, 10)\n",
    "```\n",
    "\n",
    "Similarly, this creates another linear transformation with 256 inputs and 10 outputs.\n",
    "\n",
    "```python\n",
    "self.sigmoid = nn.Sigmoid()\n",
    "self.softmax = nn.Softmax(dim=1)\n",
    "```\n",
    "\n",
    "Here I defined operations for the sigmoid activation and softmax output. Setting `dim=1` in `nn.Softmax(dim=1)` calculates softmax across the columns.\n",
    "\n",
    "```python\n",
    "def forward(self, x):\n",
    "```\n",
    "\n",
    "PyTorch networks created with `nn.Module` must have a `forward` method defined. It takes in a tensor `x` and passes it through the operations you defined in the `__init__` method.\n",
    "\n",
    "```python\n",
    "x = self.hidden(x)\n",
    "x = self.sigmoid(x)\n",
    "x = self.output(x)\n",
    "x = self.softmax(x)\n",
    "```\n",
    "\n",
    "Here the input tensor `x` is passed through each operation and reassigned to `x`. We can see that the input tensor goes through the hidden layer, then a sigmoid function, then the output layer, and finally the softmax function. It doesn't matter what you name the variables here, as long as the inputs and outputs of the operations match the network architecture you want to build. The order in which you define things in the `__init__` method doesn't matter, but you'll need to sequence the operations correctly in the `forward` method.\n",
    "\n",
    "Now we can create a `Network` object."
   ]
  },
  {
   "cell_type": "code",
   "execution_count": 37,
   "metadata": {},
   "outputs": [
    {
     "data": {
      "text/plain": [
       "Network(\n",
       "  (hidden): Linear(in_features=784, out_features=256, bias=True)\n",
       "  (output): Linear(in_features=256, out_features=10, bias=True)\n",
       "  (sigmoid): Sigmoid()\n",
       "  (softmax): Softmax()\n",
       ")"
      ]
     },
     "execution_count": 37,
     "metadata": {},
     "output_type": "execute_result"
    }
   ],
   "source": [
    "# Create the network and look at it's text representation\n",
    "model = Network()\n",
    "model"
   ]
  },
  {
   "cell_type": "markdown",
   "metadata": {},
   "source": [
    "You can define the network somewhat more concisely and clearly using the `torch.nn.functional` module. This is the most common way you'll see networks defined as many operations are simple element-wise functions. We normally import this module as `F`, `import torch.nn.functional as F`."
   ]
  },
  {
   "cell_type": "code",
   "execution_count": 38,
   "metadata": {},
   "outputs": [],
   "source": [
    "import torch.nn.functional as F\n",
    "\n",
    "class Network(nn.Module):\n",
    "    def __init__(self):\n",
    "        super().__init__()\n",
    "        # Inputs to hidden layer linear transformation\n",
    "        self.hidden = nn.Linear(784, 256)\n",
    "        # Output layer, 10 units - one for each digit\n",
    "        self.output = nn.Linear(256, 10)\n",
    "        \n",
    "    def forward(self, x):\n",
    "        # Hidden layer with sigmoid activation\n",
    "        x = F.sigmoid(self.hidden(x))\n",
    "        # Output layer with softmax activation\n",
    "        x = F.softmax(self.output(x), dim=1)\n",
    "        \n",
    "        return x"
   ]
  },
  {
   "cell_type": "markdown",
   "metadata": {},
   "source": [
    "### Activation functions\n",
    "\n",
    "So far we've only been looking at the sigmoid activation function, but in general any function can be used as an activation function. The only requirement is that for a network to approximate a non-linear function, the activation functions must be non-linear. Here are a few more examples of common activation functions: Tanh (hyperbolic tangent), and ReLU (rectified linear unit).\n",
    "\n",
    "<img src=\"assets/activation.png\" width=700px>\n",
    "\n",
    "In practice, the ReLU function is used almost exclusively as the activation function for hidden layers."
   ]
  },
  {
   "cell_type": "markdown",
   "metadata": {},
   "source": [
    "### Your Turn to Build a Network\n",
    "\n",
    "<img src=\"assets/mlp_mnist.png\" width=600px>\n",
    "\n",
    "> **Exercise:** Create a network with 784 input units, a hidden layer with 128 units and a ReLU activation, then a hidden layer with 64 units and a ReLU activation, and finally an output layer with a softmax activation as shown above. You can use a ReLU activation with the `nn.ReLU` module or `F.relu` function.\n",
    "\n",
    "It's good practice to name your layers by their type of network, for instance 'fc' to represent a fully-connected layer. As you code your solution, use `fc1`, `fc2`, and `fc3` as your layer names."
   ]
  },
  {
   "cell_type": "code",
   "execution_count": 39,
   "metadata": {
    "scrolled": true
   },
   "outputs": [
    {
     "data": {
      "text/plain": [
       "Network(\n",
       "  (fc1): Linear(in_features=784, out_features=128, bias=True)\n",
       "  (fc2): Linear(in_features=128, out_features=64, bias=True)\n",
       "  (fc3): Linear(in_features=64, out_features=10, bias=True)\n",
       ")"
      ]
     },
     "execution_count": 39,
     "metadata": {},
     "output_type": "execute_result"
    }
   ],
   "source": [
    "## Solution\n",
    "\n",
    "class Network(nn.Module):\n",
    "    def __init__(self):\n",
    "        super().__init__()\n",
    "        # Defining the layers, 128, 64, 10 units each\n",
    "        self.fc1 = nn.Linear(784, 128)\n",
    "        self.fc2 = nn.Linear(128, 64)\n",
    "        # Output layer, 10 units - one for each digit\n",
    "        self.fc3 = nn.Linear(64, 10)\n",
    "        \n",
    "    def forward(self, x):\n",
    "        ''' Forward pass through the network, returns the output logits '''\n",
    "        \n",
    "        x = self.fc1(x)\n",
    "        x = F.relu(x)\n",
    "        x = self.fc2(x)\n",
    "        x = F.relu(x)\n",
    "        x = self.fc3(x)\n",
    "        x = F.softmax(x, dim=1)\n",
    "        \n",
    "        return x\n",
    "\n",
    "model = Network()\n",
    "model\n"
   ]
  },
  {
   "cell_type": "markdown",
   "metadata": {},
   "source": [
    "### Initializing weights and biases\n",
    "\n",
    "The weights and such are automatically initialized for you, but it's possible to customize how they are initialized. The weights and biases are tensors attached to the layer you defined, you can get them with `model.fc1.weight` for instance."
   ]
  },
  {
   "cell_type": "code",
   "execution_count": 40,
   "metadata": {},
   "outputs": [
    {
     "name": "stdout",
     "output_type": "stream",
     "text": [
      "Parameter containing:\n",
      "tensor([[ 0.0353,  0.0131, -0.0176,  ...,  0.0021,  0.0052,  0.0171],\n",
      "        [-0.0124,  0.0176,  0.0315,  ...,  0.0076,  0.0272, -0.0164],\n",
      "        [ 0.0342, -0.0072, -0.0297,  ..., -0.0230, -0.0196,  0.0354],\n",
      "        ...,\n",
      "        [-0.0192,  0.0111,  0.0357,  ...,  0.0255,  0.0079, -0.0054],\n",
      "        [-0.0154, -0.0024, -0.0247,  ..., -0.0348,  0.0133,  0.0299],\n",
      "        [-0.0239,  0.0254, -0.0080,  ...,  0.0285, -0.0124,  0.0336]],\n",
      "       requires_grad=True)\n",
      "Parameter containing:\n",
      "tensor([ 0.0140, -0.0225, -0.0281,  0.0350,  0.0003, -0.0279, -0.0264, -0.0315,\n",
      "         0.0273, -0.0163, -0.0185, -0.0276, -0.0121,  0.0223,  0.0202, -0.0136,\n",
      "         0.0207,  0.0117,  0.0212, -0.0142,  0.0053, -0.0316, -0.0190,  0.0314,\n",
      "         0.0140, -0.0149, -0.0016, -0.0201, -0.0200, -0.0281,  0.0012, -0.0304,\n",
      "        -0.0128, -0.0270, -0.0031, -0.0297,  0.0180, -0.0047, -0.0332, -0.0052,\n",
      "        -0.0240,  0.0121,  0.0122,  0.0018, -0.0021,  0.0147,  0.0058,  0.0066,\n",
      "         0.0030,  0.0257, -0.0077, -0.0219,  0.0059, -0.0023, -0.0077,  0.0356,\n",
      "        -0.0177,  0.0092, -0.0081,  0.0028,  0.0230, -0.0297, -0.0223, -0.0164,\n",
      "         0.0182,  0.0043,  0.0181, -0.0038, -0.0194, -0.0226,  0.0010,  0.0305,\n",
      "         0.0004,  0.0353,  0.0252, -0.0177,  0.0175, -0.0049, -0.0261,  0.0284,\n",
      "         0.0150, -0.0064, -0.0077, -0.0182,  0.0356, -0.0080, -0.0066, -0.0138,\n",
      "         0.0105, -0.0191,  0.0060,  0.0256, -0.0007, -0.0298, -0.0334, -0.0330,\n",
      "         0.0195, -0.0125,  0.0347, -0.0343, -0.0067, -0.0057, -0.0254,  0.0051,\n",
      "        -0.0082, -0.0010, -0.0042, -0.0247, -0.0062,  0.0010, -0.0229,  0.0334,\n",
      "        -0.0232,  0.0087,  0.0095, -0.0319,  0.0100,  0.0300,  0.0125, -0.0199,\n",
      "         0.0010, -0.0066, -0.0047, -0.0060,  0.0208,  0.0278, -0.0121, -0.0201],\n",
      "       requires_grad=True)\n"
     ]
    }
   ],
   "source": [
    "print(model.fc1.weight)\n",
    "print(model.fc1.bias)"
   ]
  },
  {
   "cell_type": "markdown",
   "metadata": {},
   "source": [
    "For custom initialization, we want to modify these tensors in place. These are actually autograd *Variables*, so we need to get back the actual tensors with `model.fc1.weight.data`. Once we have the tensors, we can fill them with zeros (for biases) or random normal values."
   ]
  },
  {
   "cell_type": "code",
   "execution_count": 41,
   "metadata": {},
   "outputs": [
    {
     "data": {
      "text/plain": [
       "tensor([0., 0., 0., 0., 0., 0., 0., 0., 0., 0., 0., 0., 0., 0., 0., 0., 0., 0., 0., 0., 0., 0., 0., 0.,\n",
       "        0., 0., 0., 0., 0., 0., 0., 0., 0., 0., 0., 0., 0., 0., 0., 0., 0., 0., 0., 0., 0., 0., 0., 0.,\n",
       "        0., 0., 0., 0., 0., 0., 0., 0., 0., 0., 0., 0., 0., 0., 0., 0., 0., 0., 0., 0., 0., 0., 0., 0.,\n",
       "        0., 0., 0., 0., 0., 0., 0., 0., 0., 0., 0., 0., 0., 0., 0., 0., 0., 0., 0., 0., 0., 0., 0., 0.,\n",
       "        0., 0., 0., 0., 0., 0., 0., 0., 0., 0., 0., 0., 0., 0., 0., 0., 0., 0., 0., 0., 0., 0., 0., 0.,\n",
       "        0., 0., 0., 0., 0., 0., 0., 0.])"
      ]
     },
     "execution_count": 41,
     "metadata": {},
     "output_type": "execute_result"
    }
   ],
   "source": [
    "# Set biases to all zeros\n",
    "model.fc1.bias.data.fill_(0)"
   ]
  },
  {
   "cell_type": "code",
   "execution_count": 42,
   "metadata": {},
   "outputs": [
    {
     "data": {
      "text/plain": [
       "tensor([[ 2.2366e-03, -1.2828e-02, -1.5392e-02,  ...,  1.2617e-03,\n",
       "         -1.3713e-02,  6.1418e-03],\n",
       "        [-4.3593e-03, -1.1975e-02, -1.2449e-02,  ...,  1.3793e-02,\n",
       "         -2.5676e-03,  5.0265e-05],\n",
       "        [-3.5204e-03, -1.1833e-02,  1.6614e-02,  ...,  3.3129e-03,\n",
       "          1.2282e-03,  1.9998e-02],\n",
       "        ...,\n",
       "        [-2.6569e-03, -3.8263e-03,  9.4435e-03,  ..., -9.9601e-03,\n",
       "         -2.6780e-03, -6.3718e-03],\n",
       "        [-4.7203e-03, -6.7629e-03,  1.7075e-02,  ...,  3.2689e-03,\n",
       "          2.1875e-03,  1.4695e-02],\n",
       "        [-1.4894e-02, -4.4953e-03,  1.0603e-02,  ...,  7.2540e-03,\n",
       "         -1.6071e-02,  1.1011e-03]])"
      ]
     },
     "execution_count": 42,
     "metadata": {},
     "output_type": "execute_result"
    }
   ],
   "source": [
    "# sample from random normal with standard dev = 0.01\n",
    "model.fc1.weight.data.normal_(std=0.01)"
   ]
  },
  {
   "cell_type": "markdown",
   "metadata": {},
   "source": [
    "### Forward pass\n",
    "\n",
    "Now that we have a network, let's see what happens when we pass in an image."
   ]
  },
  {
   "cell_type": "code",
   "execution_count": 43,
   "metadata": {},
   "outputs": [
    {
     "data": {
      "image/png": "[encoded data removed]",
      "text/plain": [
       "<Figure size 432x648 with 2 Axes>"
      ]
     },
     "metadata": {
      "image/png": {
       "height": 226,
       "width": 423
      },
      "needs_background": "light"
     },
     "output_type": "display_data"
    }
   ],
   "source": [
    "# Grab some data \n",
    "dataiter = iter(trainloader)\n",
    "images, labels = dataiter.next()\n",
    "\n",
    "# Resize images into a 1D vector, new shape is (batch size, color channels, image pixels) \n",
    "images.resize_(64, 1, 784)\n",
    "# or images.resize_(images.shape[0], 1, 784) to automatically get batch size\n",
    "\n",
    "# Forward pass through the network\n",
    "img_idx = 0\n",
    "ps = model.forward(images[img_idx,:])\n",
    "\n",
    "img = images[img_idx]\n",
    "helper.view_classify(img.view(1, 28, 28), ps)"
   ]
  },
  {
   "cell_type": "markdown",
   "metadata": {},
   "source": [
    "As you can see above, our network has basically no idea what this digit is. It's because we haven't trained it yet, all the weights are random!\n",
    "\n",
    "### Using `nn.Sequential`\n",
    "\n",
    "PyTorch provides a convenient way to build networks like this where a tensor is passed sequentially through operations, `nn.Sequential` ([documentation](https://pytorch.org/docs/master/nn.html#torch.nn.Sequential)). Using this to build the equivalent network:"
   ]
  },
  {
   "cell_type": "code",
   "execution_count": 49,
   "metadata": {},
   "outputs": [
    {
     "name": "stdout",
     "output_type": "stream",
     "text": [
      "Sequential(\n",
      "  (0): Linear(in_features=784, out_features=256, bias=True)\n",
      "  (1): ReLU()\n",
      "  (2): Linear(in_features=256, out_features=64, bias=True)\n",
      "  (3): ReLU()\n",
      "  (4): Linear(in_features=64, out_features=10, bias=True)\n",
      "  (5): Softmax()\n",
      ")\n"
     ]
    },
    {
     "data": {
      "image/png": "[encoded data removed]",
      "text/plain": [
       "<Figure size 432x648 with 2 Axes>"
      ]
     },
     "metadata": {
      "image/png": {
       "height": 226,
       "width": 423
      },
      "needs_background": "light"
     },
     "output_type": "display_data"
    }
   ],
   "source": [
    "# Hyperparameters for our network\n",
    "input_size = 784\n",
    "hidden_sizes = [128, 64]\n",
    "output_size = 10\n",
    "\n",
    "# Build a feed-forward network\n",
    "model = torch.nn.Sequential(\n",
    "    torch.nn.Linear(in_features=784,out_features=256),\n",
    "    torch.nn.ReLU(),\n",
    "    torch.nn.Linear(in_features=256,out_features=64),\n",
    "    torch.nn.ReLU(),\n",
    "    torch.nn.Linear(in_features=64,out_features=10),\n",
    "    torch.nn.Softmax(dim=1)\n",
    ")\n",
    "\n",
    "print(model)\n",
    "\n",
    "# Forward pass through the network and display output\n",
    "images, labels = next(iter(trainloader))\n",
    "images.resize_(images.shape[0], 1, 784)\n",
    "ps = model.forward(images[0,:])\n",
    "helper.view_classify(images[0].view(1, 28, 28), ps)"
   ]
  },
  {
   "cell_type": "code",
   "execution_count": null,
   "metadata": {},
   "outputs": [],
   "source": []
  },
  {
   "cell_type": "markdown",
   "metadata": {},
   "source": [
    "Here our model is the same as before: 784 input units, a hidden layer with 128 units, ReLU activation, 64 unit hidden layer, another ReLU, then the output layer with 10 units, and the softmax output.\n",
    "\n",
    "The operations are available by passing in the appropriate index. For example, if you want to get first Linear operation and look at the weights, you'd use `model[0]`."
   ]
  },
  {
   "cell_type": "code",
   "execution_count": 50,
   "metadata": {},
   "outputs": [
    {
     "name": "stdout",
     "output_type": "stream",
     "text": [
      "Linear(in_features=784, out_features=256, bias=True)\n"
     ]
    },
    {
     "data": {
      "text/plain": [
       "Parameter containing:\n",
       "tensor([[-0.0117,  0.0111,  0.0128,  ..., -0.0182, -0.0328,  0.0308],\n",
       "        [ 0.0022,  0.0042,  0.0189,  ...,  0.0022,  0.0003,  0.0235],\n",
       "        [-0.0318, -0.0177, -0.0158,  ..., -0.0318,  0.0230, -0.0144],\n",
       "        ...,\n",
       "        [ 0.0283,  0.0165,  0.0176,  ...,  0.0022, -0.0006,  0.0160],\n",
       "        [ 0.0334, -0.0035, -0.0337,  ...,  0.0007,  0.0139,  0.0177],\n",
       "        [-0.0323,  0.0350,  0.0067,  ...,  0.0009, -0.0328,  0.0202]],\n",
       "       requires_grad=True)"
      ]
     },
     "execution_count": 50,
     "metadata": {},
     "output_type": "execute_result"
    }
   ],
   "source": [
    "print(model[0])\n",
    "model[0].weight"
   ]
  },
  {
   "cell_type": "markdown",
   "metadata": {},
   "source": [
    "You can also pass in an `OrderedDict` to name the individual layers and operations, instead of using incremental integers. Note that dictionary keys must be unique, so _each operation must have a different name_."
   ]
  },
  {
   "cell_type": "code",
   "execution_count": 51,
   "metadata": {},
   "outputs": [
    {
     "data": {
      "text/plain": [
       "Sequential(\n",
       "  (fc1): Linear(in_features=784, out_features=128, bias=True)\n",
       "  (relu1): ReLU()\n",
       "  (fc2): Linear(in_features=128, out_features=64, bias=True)\n",
       "  (relu2): ReLU()\n",
       "  (output): Linear(in_features=64, out_features=10, bias=True)\n",
       "  (softmax): Softmax()\n",
       ")"
      ]
     },
     "execution_count": 51,
     "metadata": {},
     "output_type": "execute_result"
    }
   ],
   "source": [
    "from collections import OrderedDict\n",
    "model = nn.Sequential(OrderedDict([\n",
    "                      ('fc1', nn.Linear(input_size, hidden_sizes[0])),\n",
    "                      ('relu1', nn.ReLU()),\n",
    "                      ('fc2', nn.Linear(hidden_sizes[0], hidden_sizes[1])),\n",
    "                      ('relu2', nn.ReLU()),\n",
    "                      ('output', nn.Linear(hidden_sizes[1], output_size)),\n",
    "                      ('softmax', nn.Softmax(dim=1))]))\n",
    "model"
   ]
  },
  {
   "cell_type": "markdown",
   "metadata": {},
   "source": [
    "Now you can access layers either by integer or the name"
   ]
  },
  {
   "cell_type": "code",
   "execution_count": 52,
   "metadata": {},
   "outputs": [
    {
     "name": "stdout",
     "output_type": "stream",
     "text": [
      "Linear(in_features=784, out_features=128, bias=True)\n",
      "Linear(in_features=784, out_features=128, bias=True)\n"
     ]
    }
   ],
   "source": [
    "print(model[0])\n",
    "print(model.fc1)"
   ]
  },
  {
   "cell_type": "markdown",
   "metadata": {},
   "source": [
    "In the next notebook, we'll see how we can train a neural network to accuractly predict the numbers appearing in the MNIST images."
   ]
  }
 ],
 "metadata": {
  "kernelspec": {
   "display_name": "Python 3",
   "language": "python",
   "name": "python3"
  },
  "language_info": {
   "codemirror_mode": {
    "name": "ipython",
    "version": 3
   },
   "file_extension": ".py",
   "mimetype": "text/x-python",
   "name": "python",
   "nbconvert_exporter": "python",
   "pygments_lexer": "ipython3",
   "version": "3.7.3"
  }
 },
 "nbformat": 4,
 "nbformat_minor": 2
}
